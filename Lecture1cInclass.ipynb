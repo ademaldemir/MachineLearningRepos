{
 "cells": [
  {
   "cell_type": "code",
   "execution_count": 2,
   "metadata": {},
   "outputs": [
    {
     "name": "stdout",
     "output_type": "stream",
     "text": [
      "df Shape:  (31321, 15)\n",
      "Train_x Shape:  (25056, 2)\n",
      "Train_y Shape:  (25056,)\n",
      "Test_x Shape:  (6265, 2)\n",
      "Test_y Shape:  (6265,)\n",
      "FTrain_x Shape:  (25056, 107)\n",
      "FTrain_y Shape:  (25056,)\n",
      "FTest_x Shape:  (6265, 107)\n",
      "FTest_y Shape:  (6265,)\n"
     ]
    }
   ],
   "source": [
    "import numpy as np\n",
    "import pandas as pd\n",
    "from matplotlib import pyplot as plt\n",
    "from sklearn.datasets import load_breast_cancer\n",
    "from sklearn.metrics import confusion_matrix\n",
    "from sklearn.metrics import roc_auc_score\n",
    "from sklearn.neighbors import KNeighborsClassifier\n",
    "from sklearn.model_selection import train_test_split\n",
    "import seaborn as sns\n",
    "sns.set()\n",
    "\n",
    "\n",
    "df = pd.read_csv('bench.csv', encoding='latin-1')\n",
    "df.dropna(inplace= True)\n",
    "dfFull =  df.copy(deep=True)\n",
    "\n",
    "print (\"df Shape: \", df.shape)\n",
    "df= df.drop('A', axis = 1)\n",
    "df= df.drop('B', axis = 1)\n",
    "df= df.drop('C', axis = 1)\n",
    "df= df.drop('D', axis = 1)\n",
    "df= df.drop('F', axis = 1)\n",
    "df= df.drop('G', axis = 1)\n",
    "df= df.drop('H', axis = 1)\n",
    "df= df.drop('I', axis = 1)\n",
    "df= df.drop('J', axis = 1)\n",
    "df= df.drop('K', axis = 1)\n",
    "df= df.drop('L', axis = 1)\n",
    "df= df.drop('N', axis = 1)\n",
    "df = pd.get_dummies(df)\n",
    "labels = np.array(df['O'])\n",
    "df= df.drop('O', axis = 1)\n",
    "\n",
    "\n",
    "\n",
    "train_x, test_x, train_y, test_y = train_test_split(df, labels, test_size = 0.2, random_state = 42)\n",
    "\n",
    "print (\"Train_x Shape: \",train_x.shape)\n",
    "print (\"Train_y Shape: \", train_y.shape)\n",
    "print (\"Test_x Shape: \", test_x.shape)\n",
    "print (\"Test_y Shape: \", test_y.shape)\n",
    "\n",
    "dfFull = pd.get_dummies(dfFull)\n",
    "labelsFull = np.array(dfFull['O'])\n",
    "dfFull= dfFull.drop('O', axis = 1)\n",
    "\n",
    "\n",
    "ftrain_x, ftest_x, ftrain_y, ftest_y = train_test_split(dfFull, labelsFull, test_size = 0.2, random_state = 42)\n",
    "\n",
    "print (\"FTrain_x Shape: \",ftrain_x.shape)\n",
    "print (\"FTrain_y Shape: \", ftrain_y.shape)\n",
    "print (\"FTest_x Shape: \", ftest_x.shape)\n",
    "print (\"FTest_y Shape: \", ftest_y.shape)"
   ]
  },
  {
   "cell_type": "code",
   "execution_count": null,
   "metadata": {},
   "outputs": [],
   "source": []
  }
 ],
 "metadata": {
  "kernelspec": {
   "display_name": "Python 3",
   "language": "python",
   "name": "python3"
  },
  "language_info": {
   "codemirror_mode": {
    "name": "ipython",
    "version": 3
   },
   "file_extension": ".py",
   "mimetype": "text/x-python",
   "name": "python",
   "nbconvert_exporter": "python",
   "pygments_lexer": "ipython3",
   "version": "3.6.5"
  }
 },
 "nbformat": 4,
 "nbformat_minor": 2
}
